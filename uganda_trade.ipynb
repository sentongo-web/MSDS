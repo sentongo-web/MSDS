{
 "cells": [
  {
   "cell_type": "markdown",
   "id": "52abae85",
   "metadata": {},
   "source": [
    "# Project Overview: Machine Learning for Predicting Unit Price of Imported Goods\n",
    "## Author: Paul Sentongo\n",
    "\n",
    "## Introduction\n",
    "The objective of this project is to detect undervaluation and overvaluation of imported goods by predicting the unit price of a given commodity in local currency. This is critical for ensuring fair trade practices and accurate taxation. This project involves several stages including data preparation, exploratory data analysis, feature engineering, model building, evaluation, and deployment."
   ]
  },
  {
   "cell_type": "markdown",
   "id": "ca2f0191",
   "metadata": {},
   "source": [
    "## Key Steps\n",
    "1. **Data Collection and Preparation**\n",
    "   - Load the dataset and understand its structure.\n",
    "   - Clean and preprocess the data.\n",
    "   - Handle missing values and detect outliers.\n",
    "   \n",
    "2. **Exploratory Data Analysis (EDA)**\n",
    "   - Conduct descriptive statistics to understand data distribution.\n",
    "   - Visualize data to identify patterns and relationships.\n",
    "\n",
    "3. **Feature Engineering**\n",
    "   - Create new features that may enhance model performance.\n",
    "   - Normalize or scale features if necessary.\n",
    "\n",
    "4. **Model Building**\n",
    "   - Select appropriate machine learning algorithms.\n",
    "   - Train and validate models using cross-validation.\n",
    "   \n",
    "5. **Model Evaluation**\n",
    "   - Evaluate models using relevant metrics.\n",
    "   - Select the best-performing model based on evaluation results.\n",
    "\n",
    "6. **Model Deployment**\n",
    "   - Preparing the final model for deployment.\n",
    "   - Deploying the model using a suitable platform (e.g., Streamlit, Flask for web deployment).\n",
    "\n",
    "7. **Monitoring and Maintenance**\n",
    "   - Monitor model performance in production.\n",
    "   - Update the model as necessary based on new data and feedback.\n",
    "\n",
    "## Tools and Technologies\n",
    "- **Programming Language:** Python\n",
    "- **Libraries:** Pandas, NumPy, Scikit-learn, Matplotlib, Seaborn, Flask\n",
    "- **Deployment Platform:** Streamlit, Flask, Docker\n",
    "\n",
    "This approach ensures a robust solution for detecting pricing discrepancies in imported goods, thereby aiding in regulatory compliance and economic fairness."
   ]
  },
  {
   "cell_type": "markdown",
   "id": "2d4dfac7",
   "metadata": {},
   "source": [
    "## Import necessary libraries"
   ]
  },
  {
   "cell_type": "code",
   "execution_count": 11,
   "id": "9c27ecb6",
   "metadata": {},
   "outputs": [],
   "source": [
    "# importing libraries to be used in the project\n",
    "import pandas as pd\n",
    "import numpy as np\n",
    "import matplotlib.pyplot as plt\n",
    "import seaborn as sns\n",
    "from sklearn.preprocessing import StandardScaler, LabelEncoder\n",
    "from sklearn.model_selection import train_test_split\n",
    "from scipy import stats\n",
    "from sklearn.linear_model import LinearRegression\n",
    "from sklearn.ensemble import RandomForestRegressor\n",
    "from xgboost import XGBRegressor\n",
    "from sklearn.metrics import mean_squared_error, r2_score\n",
    "import matplotlib.pyplot as plt\n",
    "import tensorflow as tf\n",
    "from tensorflow import keras\n",
    "from tensorflow.keras import layers\n",
    "import streamlit as st\n",
    "import pandas as pd\n",
    "import numpy as np\n",
    "from sklearn.preprocessing import StandardScaler, LabelEncoder\n",
    "import joblib\n",
    "import warnings\n",
    "warnings.filterwarnings(\"ignore\")\n",
    "from sklearn.metrics import mean_squared_error, r2_score, mean_absolute_error"
   ]
  },
  {
   "cell_type": "markdown",
   "id": "c911e6e2",
   "metadata": {},
   "source": [
    "## Variables description"
   ]
  },
  {
   "cell_type": "code",
   "execution_count": 12,
   "id": "22d6180b",
   "metadata": {},
   "outputs": [
    {
     "name": "stdout",
     "output_type": "stream",
     "text": [
      "| Attribute                 | Description                                                       |\n",
      "|---------------------------|-------------------------------------------------------------------|\n",
      "| Date                      | Date of import record                                             |\n",
      "| HS_Code                   | Harmonized system commodity code (HS code)                        |\n",
      "| Item_Description          | Description of the imported item                                  |\n",
      "| Country_of_Origin         | Country from which the goods originated                           |\n",
      "| Port_of_Shipment          | Port through which the goods entered Uganda                       |\n",
      "| Quantity                  | Quantity of goods imported                                        |\n",
      "| Quantity_Unit             | Unit of measurement for the quantity (e.g., units, boxes, liters) |\n",
      "| Net_Mass_kg               | Net mass (excluding packaging)                                    |\n",
      "| Gross_Mass_kg             | Gross mass (including packaging)                                  |\n",
      "| FOB_Value_USD             | Free on Board value in USD (excluding freight and insurance)      |\n",
      "| Freight_USD               | Freight cost in USD                                               |\n",
      "| Insurance_USD             | Insurance cost in USD                                             |\n",
      "| CIF_Value_USD             | CIF (Cost, Insurance, and Freight) value in USD                   |\n",
      "| CIF_Value_UGX             | CIF value in local currency (UGX)                                 |\n",
      "| Unit_Price_Actual_UGX     | Actual unit price in local currency (UGX)                         |\n",
      "| Unit_Price_Predicted_UGX  | Predicted unit price in local currency (UGX)                      |\n",
      "| Tax_Rate                  | Import duty rate as a percentage                                  |\n",
      "| Currency_Code             | Currency code for original values (e.g., USD)                     |\n",
      "| Mode_of_Transport         | Mode of transport used (Land, Air, or Water)                      |\n",
      "| Unit_Price_Calculated_UGX | Unit price in local currency including all duties and taxes       |\n"
     ]
    }
   ],
   "source": [
    "from tabulate import tabulate\n",
    "\n",
    "# Defining attributes and their descriptions\n",
    "attributes = [\n",
    "    [\"Date\", \"Date of import record\"],\n",
    "    [\"HS_Code\", \"Harmonized system commodity code (HS code)\"],\n",
    "    [\"Item_Description\", \"Description of the imported item\"],\n",
    "    [\"Country_of_Origin\", \"Country from which the goods originated\"],\n",
    "    [\"Port_of_Shipment\", \"Port through which the goods entered Uganda\"],\n",
    "    [\"Quantity\", \"Quantity of goods imported\"],\n",
    "    [\"Quantity_Unit\", \"Unit of measurement for the quantity (e.g., units, boxes, liters)\"],\n",
    "    [\"Net_Mass_kg\", \"Net mass (excluding packaging)\"],\n",
    "    [\"Gross_Mass_kg\", \"Gross mass (including packaging)\"],\n",
    "    [\"FOB_Value_USD\", \"Free on Board value in USD (excluding freight and insurance)\"],\n",
    "    [\"Freight_USD\", \"Freight cost in USD\"],\n",
    "    [\"Insurance_USD\", \"Insurance cost in USD\"],\n",
    "    [\"CIF_Value_USD\", \"CIF (Cost, Insurance, and Freight) value in USD\"],\n",
    "    [\"CIF_Value_UGX\", \"CIF value in local currency (UGX)\"],\n",
    "    [\"Unit_Price_Actual_UGX\", \"Actual unit price in local currency (UGX)\"],\n",
    "    [\"Unit_Price_Predicted_UGX\", \"Predicted unit price in local currency (UGX)\"],\n",
    "    [\"Tax_Rate\", \"Import duty rate as a percentage\"],\n",
    "    [\"Currency_Code\", \"Currency code for original values (e.g., USD)\"],\n",
    "    [\"Mode_of_Transport\", \"Mode of transport used (Land, Air, or Water)\"],\n",
    "    [\"Unit_Price_Calculated_UGX\", \"Unit price in local currency including all duties and taxes\"]\n",
    "]\n",
    "\n",
    "# Creating markdown table\n",
    "markdown_table = tabulate(attributes, headers=[\"Attribute\", \"Description\"], tablefmt=\"github\")\n",
    "\n",
    "print(markdown_table)\n"
   ]
  },
  {
   "cell_type": "code",
   "execution_count": 13,
   "id": "99126ca3",
   "metadata": {},
   "outputs": [],
   "source": [
    "# Loading the dataset\n",
    "data = pd.read_csv('uganda_imports_trade_data.csv')"
   ]
  },
  {
   "cell_type": "code",
   "execution_count": 15,
   "id": "db87c96e",
   "metadata": {},
   "outputs": [
    {
     "data": {
      "application/vnd.microsoft.datawrangler.viewer.v0+json": {
       "columns": [
        {
         "name": "index",
         "rawType": "int64",
         "type": "integer"
        },
        {
         "name": "Date",
         "rawType": "object",
         "type": "string"
        },
        {
         "name": "HS_Code",
         "rawType": "int64",
         "type": "integer"
        },
        {
         "name": "Item_Description",
         "rawType": "object",
         "type": "string"
        },
        {
         "name": "Country_of_Origin",
         "rawType": "object",
         "type": "string"
        },
        {
         "name": "Port_of_Shipment",
         "rawType": "object",
         "type": "string"
        },
        {
         "name": "Quantity",
         "rawType": "float64",
         "type": "float"
        },
        {
         "name": "Quantity_Unit",
         "rawType": "object",
         "type": "string"
        },
        {
         "name": "Net_Mass_kg",
         "rawType": "float64",
         "type": "float"
        },
        {
         "name": "Gross_Mass_kg",
         "rawType": "float64",
         "type": "float"
        },
        {
         "name": "FOB_Value_USD",
         "rawType": "float64",
         "type": "float"
        },
        {
         "name": "Freight_USD",
         "rawType": "float64",
         "type": "float"
        },
        {
         "name": "Insurance_USD",
         "rawType": "float64",
         "type": "float"
        },
        {
         "name": "CIF_Value_USD",
         "rawType": "float64",
         "type": "float"
        },
        {
         "name": "CIF_Value_UGX",
         "rawType": "float64",
         "type": "float"
        },
        {
         "name": "Unit_Price_UGX",
         "rawType": "float64",
         "type": "float"
        },
        {
         "name": "Tax_Rate",
         "rawType": "float64",
         "type": "float"
        },
        {
         "name": "Currency_Code",
         "rawType": "object",
         "type": "string"
        },
        {
         "name": "Mode_of_Transport",
         "rawType": "object",
         "type": "string"
        }
       ],
       "conversionMethod": "pd.DataFrame",
       "ref": "b6c81108-9ea6-4dad-9d1c-638d03cb7e91",
       "rows": [
        [
         "0",
         "02/10/2022",
         "39011010",
         "Polyethylene plastics",
         "Germany",
         "Malaba",
         "28.0",
         "units",
         "18.47",
         "19.99",
         "4115.88",
         "219.74",
         "18.82",
         "4354.44",
         "16374241.92",
         "584794.35",
         "0.1",
         "USD",
         "Land"
        ],
        [
         "1",
         "02/06/2022",
         "85044010",
         "Power supply equipment",
         "Kenya",
         "Entebbe Airport",
         "1330.84",
         "boxes",
         "2934.69",
         "3176.72",
         "3263.67",
         "305.87",
         "14.72",
         "3584.26",
         "12963758.95",
         "9741.03",
         "0.18",
         "USD",
         "Air"
        ],
        [
         "2",
         "23/05/2020",
         "87032319",
         "Used passenger vehicles",
         "India",
         "Entebbe Airport",
         "26.4",
         "liters",
         "121.75",
         "131.8",
         "8129.32",
         "993.55",
         "60.83",
         "9183.7",
         "32501746.56",
         "1231126.76",
         "0.18",
         "USD",
         "Air"
        ],
        [
         "3",
         "04/03/2023",
         "84089010",
         "Industrial machinery parts",
         "Germany",
         "Malaba",
         "105.2",
         "pairs",
         "173.09",
         "187.36",
         "4418.5",
         "372.36",
         "23.54",
         "4814.4",
         "18717587.29",
         "177923.83",
         "0.18",
         "USD",
         "Land"
        ],
        [
         "4",
         "30/03/2024",
         "84089010",
         "Industrial machinery parts",
         "Kenya",
         "Port Bell",
         "346.09",
         "boxes",
         "693.45",
         "750.64",
         "3156.11",
         "395.04",
         "26.58",
         "3577.73",
         "12924098.13",
         "37343.17",
         "0.2",
         "USD",
         "Water"
        ]
       ],
       "shape": {
        "columns": 18,
        "rows": 5
       }
      },
      "text/html": [
       "<div>\n",
       "<style scoped>\n",
       "    .dataframe tbody tr th:only-of-type {\n",
       "        vertical-align: middle;\n",
       "    }\n",
       "\n",
       "    .dataframe tbody tr th {\n",
       "        vertical-align: top;\n",
       "    }\n",
       "\n",
       "    .dataframe thead th {\n",
       "        text-align: right;\n",
       "    }\n",
       "</style>\n",
       "<table border=\"1\" class=\"dataframe\">\n",
       "  <thead>\n",
       "    <tr style=\"text-align: right;\">\n",
       "      <th></th>\n",
       "      <th>Date</th>\n",
       "      <th>HS_Code</th>\n",
       "      <th>Item_Description</th>\n",
       "      <th>Country_of_Origin</th>\n",
       "      <th>Port_of_Shipment</th>\n",
       "      <th>Quantity</th>\n",
       "      <th>Quantity_Unit</th>\n",
       "      <th>Net_Mass_kg</th>\n",
       "      <th>Gross_Mass_kg</th>\n",
       "      <th>FOB_Value_USD</th>\n",
       "      <th>Freight_USD</th>\n",
       "      <th>Insurance_USD</th>\n",
       "      <th>CIF_Value_USD</th>\n",
       "      <th>CIF_Value_UGX</th>\n",
       "      <th>Unit_Price_UGX</th>\n",
       "      <th>Tax_Rate</th>\n",
       "      <th>Currency_Code</th>\n",
       "      <th>Mode_of_Transport</th>\n",
       "    </tr>\n",
       "  </thead>\n",
       "  <tbody>\n",
       "    <tr>\n",
       "      <th>0</th>\n",
       "      <td>02/10/2022</td>\n",
       "      <td>39011010</td>\n",
       "      <td>Polyethylene plastics</td>\n",
       "      <td>Germany</td>\n",
       "      <td>Malaba</td>\n",
       "      <td>28.00</td>\n",
       "      <td>units</td>\n",
       "      <td>18.47</td>\n",
       "      <td>19.99</td>\n",
       "      <td>4115.88</td>\n",
       "      <td>219.74</td>\n",
       "      <td>18.82</td>\n",
       "      <td>4354.44</td>\n",
       "      <td>16374241.92</td>\n",
       "      <td>584794.35</td>\n",
       "      <td>0.10</td>\n",
       "      <td>USD</td>\n",
       "      <td>Land</td>\n",
       "    </tr>\n",
       "    <tr>\n",
       "      <th>1</th>\n",
       "      <td>02/06/2022</td>\n",
       "      <td>85044010</td>\n",
       "      <td>Power supply equipment</td>\n",
       "      <td>Kenya</td>\n",
       "      <td>Entebbe Airport</td>\n",
       "      <td>1330.84</td>\n",
       "      <td>boxes</td>\n",
       "      <td>2934.69</td>\n",
       "      <td>3176.72</td>\n",
       "      <td>3263.67</td>\n",
       "      <td>305.87</td>\n",
       "      <td>14.72</td>\n",
       "      <td>3584.26</td>\n",
       "      <td>12963758.95</td>\n",
       "      <td>9741.03</td>\n",
       "      <td>0.18</td>\n",
       "      <td>USD</td>\n",
       "      <td>Air</td>\n",
       "    </tr>\n",
       "    <tr>\n",
       "      <th>2</th>\n",
       "      <td>23/05/2020</td>\n",
       "      <td>87032319</td>\n",
       "      <td>Used passenger vehicles</td>\n",
       "      <td>India</td>\n",
       "      <td>Entebbe Airport</td>\n",
       "      <td>26.40</td>\n",
       "      <td>liters</td>\n",
       "      <td>121.75</td>\n",
       "      <td>131.80</td>\n",
       "      <td>8129.32</td>\n",
       "      <td>993.55</td>\n",
       "      <td>60.83</td>\n",
       "      <td>9183.70</td>\n",
       "      <td>32501746.56</td>\n",
       "      <td>1231126.76</td>\n",
       "      <td>0.18</td>\n",
       "      <td>USD</td>\n",
       "      <td>Air</td>\n",
       "    </tr>\n",
       "    <tr>\n",
       "      <th>3</th>\n",
       "      <td>04/03/2023</td>\n",
       "      <td>84089010</td>\n",
       "      <td>Industrial machinery parts</td>\n",
       "      <td>Germany</td>\n",
       "      <td>Malaba</td>\n",
       "      <td>105.20</td>\n",
       "      <td>pairs</td>\n",
       "      <td>173.09</td>\n",
       "      <td>187.36</td>\n",
       "      <td>4418.50</td>\n",
       "      <td>372.36</td>\n",
       "      <td>23.54</td>\n",
       "      <td>4814.40</td>\n",
       "      <td>18717587.29</td>\n",
       "      <td>177923.83</td>\n",
       "      <td>0.18</td>\n",
       "      <td>USD</td>\n",
       "      <td>Land</td>\n",
       "    </tr>\n",
       "    <tr>\n",
       "      <th>4</th>\n",
       "      <td>30/03/2024</td>\n",
       "      <td>84089010</td>\n",
       "      <td>Industrial machinery parts</td>\n",
       "      <td>Kenya</td>\n",
       "      <td>Port Bell</td>\n",
       "      <td>346.09</td>\n",
       "      <td>boxes</td>\n",
       "      <td>693.45</td>\n",
       "      <td>750.64</td>\n",
       "      <td>3156.11</td>\n",
       "      <td>395.04</td>\n",
       "      <td>26.58</td>\n",
       "      <td>3577.73</td>\n",
       "      <td>12924098.13</td>\n",
       "      <td>37343.17</td>\n",
       "      <td>0.20</td>\n",
       "      <td>USD</td>\n",
       "      <td>Water</td>\n",
       "    </tr>\n",
       "  </tbody>\n",
       "</table>\n",
       "</div>"
      ],
      "text/plain": [
       "         Date   HS_Code            Item_Description Country_of_Origin  \\\n",
       "0  02/10/2022  39011010       Polyethylene plastics           Germany   \n",
       "1  02/06/2022  85044010      Power supply equipment             Kenya   \n",
       "2  23/05/2020  87032319     Used passenger vehicles             India   \n",
       "3  04/03/2023  84089010  Industrial machinery parts           Germany   \n",
       "4  30/03/2024  84089010  Industrial machinery parts             Kenya   \n",
       "\n",
       "  Port_of_Shipment  Quantity Quantity_Unit  Net_Mass_kg  Gross_Mass_kg  \\\n",
       "0           Malaba     28.00         units        18.47          19.99   \n",
       "1  Entebbe Airport   1330.84         boxes      2934.69        3176.72   \n",
       "2  Entebbe Airport     26.40        liters       121.75         131.80   \n",
       "3           Malaba    105.20         pairs       173.09         187.36   \n",
       "4        Port Bell    346.09         boxes       693.45         750.64   \n",
       "\n",
       "   FOB_Value_USD  Freight_USD  Insurance_USD  CIF_Value_USD  CIF_Value_UGX  \\\n",
       "0        4115.88       219.74          18.82        4354.44    16374241.92   \n",
       "1        3263.67       305.87          14.72        3584.26    12963758.95   \n",
       "2        8129.32       993.55          60.83        9183.70    32501746.56   \n",
       "3        4418.50       372.36          23.54        4814.40    18717587.29   \n",
       "4        3156.11       395.04          26.58        3577.73    12924098.13   \n",
       "\n",
       "   Unit_Price_UGX  Tax_Rate Currency_Code Mode_of_Transport  \n",
       "0       584794.35      0.10           USD              Land  \n",
       "1         9741.03      0.18           USD               Air  \n",
       "2      1231126.76      0.18           USD               Air  \n",
       "3       177923.83      0.18           USD              Land  \n",
       "4        37343.17      0.20           USD             Water  "
      ]
     },
     "execution_count": 15,
     "metadata": {},
     "output_type": "execute_result"
    }
   ],
   "source": [
    "data.head(5)"
   ]
  },
  {
   "cell_type": "code",
   "execution_count": 18,
   "id": "6dbb3e6f",
   "metadata": {},
   "outputs": [
    {
     "name": "stdout",
     "output_type": "stream",
     "text": [
      "<class 'pandas.core.frame.DataFrame'>\n",
      "RangeIndex: 100000 entries, 0 to 99999\n",
      "Data columns (total 18 columns):\n",
      " #   Column             Non-Null Count   Dtype  \n",
      "---  ------             --------------   -----  \n",
      " 0   Date               100000 non-null  object \n",
      " 1   HS_Code            100000 non-null  int64  \n",
      " 2   Item_Description   100000 non-null  object \n",
      " 3   Country_of_Origin  100000 non-null  object \n",
      " 4   Port_of_Shipment   100000 non-null  object \n",
      " 5   Quantity           100000 non-null  float64\n",
      " 6   Quantity_Unit      100000 non-null  object \n",
      " 7   Net_Mass_kg        100000 non-null  float64\n",
      " 8   Gross_Mass_kg      100000 non-null  float64\n",
      " 9   FOB_Value_USD      100000 non-null  float64\n",
      " 10  Freight_USD        100000 non-null  float64\n",
      " 11  Insurance_USD      100000 non-null  float64\n",
      " 12  CIF_Value_USD      100000 non-null  float64\n",
      " 13  CIF_Value_UGX      100000 non-null  float64\n",
      " 14  Unit_Price_UGX     100000 non-null  float64\n",
      " 15  Tax_Rate           100000 non-null  float64\n",
      " 16  Currency_Code      100000 non-null  object \n",
      " 17  Mode_of_Transport  100000 non-null  object \n",
      "dtypes: float64(10), int64(1), object(7)\n",
      "memory usage: 13.7+ MB\n"
     ]
    }
   ],
   "source": [
    "#checking the data types of the columns in the dataset\n",
    "data.info()"
   ]
  },
  {
   "cell_type": "code",
   "execution_count": 19,
   "id": "2cd9f8e7",
   "metadata": {},
   "outputs": [
    {
     "data": {
      "text/plain": [
       "(100000, 18)"
      ]
     },
     "execution_count": 19,
     "metadata": {},
     "output_type": "execute_result"
    }
   ],
   "source": [
    "# checking for shape of the dataset\n",
    "data.shape"
   ]
  },
  {
   "attachments": {
    "image.png": {
     "image/png": "[encoded data removed]"
    }
   },
   "cell_type": "markdown",
   "id": "3907a6be",
   "metadata": {},
   "source": [
    "# creating predictor variable\n",
    "\n",
    "![image.png](attachment:image.png)"
   ]
  }
 ],
 "metadata": {
  "kernelspec": {
   "display_name": "Python 3",
   "language": "python",
   "name": "python3"
  },
  "language_info": {
   "codemirror_mode": {
    "name": "ipython",
    "version": 3
   },
   "file_extension": ".py",
   "mimetype": "text/x-python",
   "name": "python",
   "nbconvert_exporter": "python",
   "pygments_lexer": "ipython3",
   "version": "3.11.9"
  }
 },
 "nbformat": 4,
 "nbformat_minor": 5
}
