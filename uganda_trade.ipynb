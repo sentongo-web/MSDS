{
 "cells": [
  {
   "cell_type": "markdown",
   "id": "52abae85",
   "metadata": {},
   "source": [
    "# Project Overview: Machine Learning for Predicting Unit Price of Imported Goods\n",
    "## Author: Paul Sentongo\n",
    "\n",
    "## Introduction\n",
    "The objective of this project is to detect undervaluation and overvaluation of imported goods by predicting the unit price of a given commodity in local currency. This is critical for ensuring fair trade practices and accurate taxation. This project involves several stages including data preparation, exploratory data analysis, feature engineering, model building, evaluation, and deployment."
   ]
  },
  {
   "cell_type": "markdown",
   "id": "ca2f0191",
   "metadata": {},
   "source": [
    "## Key Steps\n",
    "1. **Data Collection and Preparation**\n",
    "   - Load the dataset and understand its structure.\n",
    "   - Clean and preprocess the data.\n",
    "   - Handle missing values and detect outliers.\n",
    "   \n",
    "2. **Exploratory Data Analysis (EDA)**\n",
    "   - Conduct descriptive statistics to understand data distribution.\n",
    "   - Visualize data to identify patterns and relationships.\n",
    "\n",
    "3. **Feature Engineering**\n",
    "   - Create new features that may enhance model performance.\n",
    "   - Normalize or scale features if necessary.\n",
    "\n",
    "4. **Model Building**\n",
    "   - Select appropriate machine learning algorithms.\n",
    "   - Train and validate models using cross-validation.\n",
    "   \n",
    "5. **Model Evaluation**\n",
    "   - Evaluate models using relevant metrics.\n",
    "   - Select the best-performing model based on evaluation results.\n",
    "\n",
    "6. **Model Deployment**\n",
    "   - Preparing the final model for deployment.\n",
    "   - Deploying the model using a suitable platform (e.g., Streamlit, Flask for web deployment).\n",
    "\n",
    "7. **Monitoring and Maintenance**\n",
    "   - Monitor model performance in production.\n",
    "   - Update the model as necessary based on new data and feedback.\n",
    "\n",
    "## Tools and Technologies\n",
    "- **Programming Language:** Python\n",
    "- **Libraries:** Pandas, NumPy, Scikit-learn, Matplotlib, Seaborn, Flask\n",
    "- **Deployment Platform:** Streamlit, Flask, Docker\n",
    "\n",
    "This approach ensures a robust solution for detecting pricing discrepancies in imported goods, thereby aiding in regulatory compliance and economic fairness."
   ]
  },
  {
   "cell_type": "markdown",
   "id": "2d4dfac7",
   "metadata": {},
   "source": [
    "## Import necessary libraries"
   ]
  },
  {
   "cell_type": "code",
   "execution_count": 22,
   "id": "9c27ecb6",
   "metadata": {},
   "outputs": [],
   "source": [
    "# importing libraries to be used in the project\n",
    "import pandas as pd\n",
    "import numpy as np\n",
    "import matplotlib.pyplot as plt\n",
    "import seaborn as sns\n",
    "from sklearn.preprocessing import StandardScaler, LabelEncoder\n",
    "from sklearn.model_selection import train_test_split\n",
    "from scipy import stats\n",
    "from sklearn.linear_model import LinearRegression\n",
    "from sklearn.ensemble import RandomForestRegressor\n",
    "from xgboost import XGBRegressor\n",
    "from sklearn.metrics import mean_squared_error, r2_score\n",
    "import matplotlib.pyplot as plt\n",
    "import tensorflow as tf\n",
    "from tensorflow import keras\n",
    "from tensorflow.keras import layers\n",
    "import streamlit as st\n",
    "import pandas as pd\n",
    "import numpy as np\n",
    "from sklearn.preprocessing import StandardScaler, LabelEncoder\n",
    "import joblib\n",
    "import warnings\n",
    "warnings.filterwarnings(\"ignore\")\n",
    "from sklearn.metrics import mean_squared_error, r2_score, mean_absolute_error"
   ]
  },
  {
   "cell_type": "markdown",
   "id": "c911e6e2",
   "metadata": {},
   "source": [
    "## Variables description"
   ]
  },
  {
   "cell_type": "code",
   "execution_count": 23,
   "id": "22d6180b",
   "metadata": {},
   "outputs": [
    {
     "name": "stdout",
     "output_type": "stream",
     "text": [
      "| Attribute                 | Description                                                       |\n",
      "|---------------------------|-------------------------------------------------------------------|\n",
      "| Date                      | Date of import record                                             |\n",
      "| HS_Code                   | Harmonized system commodity code (HS code)                        |\n",
      "| Item_Description          | Description of the imported item                                  |\n",
      "| Country_of_Origin         | Country from which the goods originated                           |\n",
      "| Port_of_Shipment          | Port through which the goods entered Uganda                       |\n",
      "| Quantity                  | Quantity of goods imported                                        |\n",
      "| Quantity_Unit             | Unit of measurement for the quantity (e.g., units, boxes, liters) |\n",
      "| Net_Mass_kg               | Net mass (excluding packaging)                                    |\n",
      "| Gross_Mass_kg             | Gross mass (including packaging)                                  |\n",
      "| FOB_Value_USD             | Free on Board value in USD (excluding freight and insurance)      |\n",
      "| Freight_USD               | Freight cost in USD                                               |\n",
      "| Insurance_USD             | Insurance cost in USD                                             |\n",
      "| CIF_Value_USD             | CIF (Cost, Insurance, and Freight) value in USD                   |\n",
      "| CIF_Value_UGX             | CIF value in local currency (UGX)                                 |\n",
      "| Unit_Price_Actual_UGX     | Actual unit price in local currency (UGX)                         |\n",
      "| Unit_Price_Predicted_UGX  | Predicted unit price in local currency (UGX)                      |\n",
      "| Tax_Rate                  | Import duty rate as a percentage                                  |\n",
      "| Currency_Code             | Currency code for original values (e.g., USD)                     |\n",
      "| Mode_of_Transport         | Mode of transport used (Land, Air, or Water)                      |\n",
      "| Unit_Price_Calculated_UGX | Unit price in local currency including all duties and taxes       |\n"
     ]
    }
   ],
   "source": [
    "from tabulate import tabulate\n",
    "\n",
    "# Defining attributes and their descriptions\n",
    "attributes = [\n",
    "    [\"Date\", \"Date of import record\"],\n",
    "    [\"HS_Code\", \"Harmonized system commodity code (HS code)\"],\n",
    "    [\"Item_Description\", \"Description of the imported item\"],\n",
    "    [\"Country_of_Origin\", \"Country from which the goods originated\"],\n",
    "    [\"Port_of_Shipment\", \"Port through which the goods entered Uganda\"],\n",
    "    [\"Quantity\", \"Quantity of goods imported\"],\n",
    "    [\"Quantity_Unit\", \"Unit of measurement for the quantity (e.g., units, boxes, liters)\"],\n",
    "    [\"Net_Mass_kg\", \"Net mass (excluding packaging)\"],\n",
    "    [\"Gross_Mass_kg\", \"Gross mass (including packaging)\"],\n",
    "    [\"FOB_Value_USD\", \"Free on Board value in USD (excluding freight and insurance)\"],\n",
    "    [\"Freight_USD\", \"Freight cost in USD\"],\n",
    "    [\"Insurance_USD\", \"Insurance cost in USD\"],\n",
    "    [\"CIF_Value_USD\", \"CIF (Cost, Insurance, and Freight) value in USD\"],\n",
    "    [\"CIF_Value_UGX\", \"CIF value in local currency (UGX)\"],\n",
    "    [\"Unit_Price_Actual_UGX\", \"Actual unit price in local currency (UGX)\"],\n",
    "    [\"Unit_Price_Predicted_UGX\", \"Predicted unit price in local currency (UGX)\"],\n",
    "    [\"Tax_Rate\", \"Import duty rate as a percentage\"],\n",
    "    [\"Currency_Code\", \"Currency code for original values (e.g., USD)\"],\n",
    "    [\"Mode_of_Transport\", \"Mode of transport used (Land, Air, or Water)\"],\n",
    "    [\"Unit_Price_Calculated_UGX\", \"Unit price in local currency including all duties and taxes\"]\n",
    "]\n",
    "\n",
    "# Creating markdown table\n",
    "markdown_table = tabulate(attributes, headers=[\"Attribute\", \"Description\"], tablefmt=\"github\")\n",
    "\n",
    "print(markdown_table)\n"
   ]
  },
  {
   "cell_type": "code",
   "execution_count": 24,
   "id": "99126ca3",
   "metadata": {},
   "outputs": [],
   "source": [
    "# Loading the dataset\n",
    "data = pd.read_csv('uganda_imports_trade_data_train_set.csv')"
   ]
  },
  {
   "cell_type": "code",
   "execution_count": 25,
   "id": "db87c96e",
   "metadata": {},
   "outputs": [
    {
     "data": {
      "application/vnd.microsoft.datawrangler.viewer.v0+json": {
       "columns": [
        {
         "name": "index",
         "rawType": "int64",
         "type": "integer"
        },
        {
         "name": "Date",
         "rawType": "object",
         "type": "string"
        },
        {
         "name": "HS_Code",
         "rawType": "int64",
         "type": "integer"
        },
        {
         "name": "Item_Description",
         "rawType": "object",
         "type": "string"
        },
        {
         "name": "Country_of_Origin",
         "rawType": "object",
         "type": "string"
        },
        {
         "name": "Port_of_Shipment",
         "rawType": "object",
         "type": "string"
        },
        {
         "name": "Quantity",
         "rawType": "float64",
         "type": "float"
        },
        {
         "name": "Quantity_Unit",
         "rawType": "object",
         "type": "string"
        },
        {
         "name": "Net_Mass_kg",
         "rawType": "float64",
         "type": "float"
        },
        {
         "name": "Gross_Mass_kg",
         "rawType": "float64",
         "type": "float"
        },
        {
         "name": "FOB_Value_USD",
         "rawType": "float64",
         "type": "float"
        },
        {
         "name": "Freight_USD",
         "rawType": "float64",
         "type": "float"
        },
        {
         "name": "Insurance_USD",
         "rawType": "float64",
         "type": "float"
        },
        {
         "name": "CIF_Value_USD",
         "rawType": "float64",
         "type": "float"
        },
        {
         "name": "CIF_Value_UGX",
         "rawType": "float64",
         "type": "float"
        },
        {
         "name": "Unit_Price_UGX",
         "rawType": "float64",
         "type": "float"
        },
        {
         "name": "Tax_Rate",
         "rawType": "float64",
         "type": "float"
        },
        {
         "name": "Currency_Code",
         "rawType": "object",
         "type": "string"
        },
        {
         "name": "Mode_of_Transport",
         "rawType": "object",
         "type": "string"
        }
       ],
       "conversionMethod": "pd.DataFrame",
       "ref": "bc93cce7-952c-4d88-8228-40de263ab0ee",
       "rows": [
        [
         "0",
         "23/04/2021",
         "27101931",
         "Mineral fuels and oils",
         "Saudi Arabia",
         "Busia",
         "23.58",
         "units",
         "114.15",
         "123.56",
         "9044.66",
         "1050.6",
         "143.72",
         "10238.98",
         "37439216.34",
         "1587753.03",
         "0.05",
         "USD",
         "Land"
        ],
        [
         "1",
         "03/11/2021",
         "30049099",
         "Generic pharmaceutical products",
         "China",
         "Port Bell",
         "482.42",
         "kg",
         "2253.97",
         "2439.86",
         "2352.84",
         "220.04",
         "47.01",
         "2619.89",
         "9671924.57",
         "20048.76",
         "0.18",
         "USD",
         "Water"
        ],
        [
         "2",
         "13/11/2022",
         "30049099",
         "Generic pharmaceutical products",
         "China",
         "Entebbe Airport",
         "131.97",
         "liters",
         "348.67",
         "377.42",
         "2084.1",
         "169.47",
         "17.04",
         "2270.61",
         "8412978.38",
         "63749.17",
         "0.18",
         "USD",
         "Air"
        ],
        [
         "3",
         "13/03/2022",
         "15079090",
         "Vegetable fats and oils",
         "Germany",
         "Entebbe Airport",
         "113.44",
         "pairs",
         "449.93",
         "487.04",
         "2759.84",
         "151.3",
         "53.46",
         "2964.6",
         "10672562.76",
         "94081.12",
         "0.15",
         "USD",
         "Air"
        ],
        [
         "4",
         "04/06/2020",
         "12010090",
         "Soybeans",
         "China",
         "Port Bell",
         "44.42",
         "units",
         "210.32",
         "227.66",
         "9861.95",
         "1345.54",
         "62.96",
         "11270.45",
         "41822493.34",
         "941523.94",
         "0.05",
         "USD",
         "Water"
        ]
       ],
       "shape": {
        "columns": 18,
        "rows": 5
       }
      },
      "text/html": [
       "<div>\n",
       "<style scoped>\n",
       "    .dataframe tbody tr th:only-of-type {\n",
       "        vertical-align: middle;\n",
       "    }\n",
       "\n",
       "    .dataframe tbody tr th {\n",
       "        vertical-align: top;\n",
       "    }\n",
       "\n",
       "    .dataframe thead th {\n",
       "        text-align: right;\n",
       "    }\n",
       "</style>\n",
       "<table border=\"1\" class=\"dataframe\">\n",
       "  <thead>\n",
       "    <tr style=\"text-align: right;\">\n",
       "      <th></th>\n",
       "      <th>Date</th>\n",
       "      <th>HS_Code</th>\n",
       "      <th>Item_Description</th>\n",
       "      <th>Country_of_Origin</th>\n",
       "      <th>Port_of_Shipment</th>\n",
       "      <th>Quantity</th>\n",
       "      <th>Quantity_Unit</th>\n",
       "      <th>Net_Mass_kg</th>\n",
       "      <th>Gross_Mass_kg</th>\n",
       "      <th>FOB_Value_USD</th>\n",
       "      <th>Freight_USD</th>\n",
       "      <th>Insurance_USD</th>\n",
       "      <th>CIF_Value_USD</th>\n",
       "      <th>CIF_Value_UGX</th>\n",
       "      <th>Unit_Price_UGX</th>\n",
       "      <th>Tax_Rate</th>\n",
       "      <th>Currency_Code</th>\n",
       "      <th>Mode_of_Transport</th>\n",
       "    </tr>\n",
       "  </thead>\n",
       "  <tbody>\n",
       "    <tr>\n",
       "      <th>0</th>\n",
       "      <td>23/04/2021</td>\n",
       "      <td>27101931</td>\n",
       "      <td>Mineral fuels and oils</td>\n",
       "      <td>Saudi Arabia</td>\n",
       "      <td>Busia</td>\n",
       "      <td>23.58</td>\n",
       "      <td>units</td>\n",
       "      <td>114.15</td>\n",
       "      <td>123.56</td>\n",
       "      <td>9044.66</td>\n",
       "      <td>1050.60</td>\n",
       "      <td>143.72</td>\n",
       "      <td>10238.98</td>\n",
       "      <td>37439216.34</td>\n",
       "      <td>1587753.03</td>\n",
       "      <td>0.05</td>\n",
       "      <td>USD</td>\n",
       "      <td>Land</td>\n",
       "    </tr>\n",
       "    <tr>\n",
       "      <th>1</th>\n",
       "      <td>03/11/2021</td>\n",
       "      <td>30049099</td>\n",
       "      <td>Generic pharmaceutical products</td>\n",
       "      <td>China</td>\n",
       "      <td>Port Bell</td>\n",
       "      <td>482.42</td>\n",
       "      <td>kg</td>\n",
       "      <td>2253.97</td>\n",
       "      <td>2439.86</td>\n",
       "      <td>2352.84</td>\n",
       "      <td>220.04</td>\n",
       "      <td>47.01</td>\n",
       "      <td>2619.89</td>\n",
       "      <td>9671924.57</td>\n",
       "      <td>20048.76</td>\n",
       "      <td>0.18</td>\n",
       "      <td>USD</td>\n",
       "      <td>Water</td>\n",
       "    </tr>\n",
       "    <tr>\n",
       "      <th>2</th>\n",
       "      <td>13/11/2022</td>\n",
       "      <td>30049099</td>\n",
       "      <td>Generic pharmaceutical products</td>\n",
       "      <td>China</td>\n",
       "      <td>Entebbe Airport</td>\n",
       "      <td>131.97</td>\n",
       "      <td>liters</td>\n",
       "      <td>348.67</td>\n",
       "      <td>377.42</td>\n",
       "      <td>2084.10</td>\n",
       "      <td>169.47</td>\n",
       "      <td>17.04</td>\n",
       "      <td>2270.61</td>\n",
       "      <td>8412978.38</td>\n",
       "      <td>63749.17</td>\n",
       "      <td>0.18</td>\n",
       "      <td>USD</td>\n",
       "      <td>Air</td>\n",
       "    </tr>\n",
       "    <tr>\n",
       "      <th>3</th>\n",
       "      <td>13/03/2022</td>\n",
       "      <td>15079090</td>\n",
       "      <td>Vegetable fats and oils</td>\n",
       "      <td>Germany</td>\n",
       "      <td>Entebbe Airport</td>\n",
       "      <td>113.44</td>\n",
       "      <td>pairs</td>\n",
       "      <td>449.93</td>\n",
       "      <td>487.04</td>\n",
       "      <td>2759.84</td>\n",
       "      <td>151.30</td>\n",
       "      <td>53.46</td>\n",
       "      <td>2964.60</td>\n",
       "      <td>10672562.76</td>\n",
       "      <td>94081.12</td>\n",
       "      <td>0.15</td>\n",
       "      <td>USD</td>\n",
       "      <td>Air</td>\n",
       "    </tr>\n",
       "    <tr>\n",
       "      <th>4</th>\n",
       "      <td>04/06/2020</td>\n",
       "      <td>12010090</td>\n",
       "      <td>Soybeans</td>\n",
       "      <td>China</td>\n",
       "      <td>Port Bell</td>\n",
       "      <td>44.42</td>\n",
       "      <td>units</td>\n",
       "      <td>210.32</td>\n",
       "      <td>227.66</td>\n",
       "      <td>9861.95</td>\n",
       "      <td>1345.54</td>\n",
       "      <td>62.96</td>\n",
       "      <td>11270.45</td>\n",
       "      <td>41822493.34</td>\n",
       "      <td>941523.94</td>\n",
       "      <td>0.05</td>\n",
       "      <td>USD</td>\n",
       "      <td>Water</td>\n",
       "    </tr>\n",
       "  </tbody>\n",
       "</table>\n",
       "</div>"
      ],
      "text/plain": [
       "         Date   HS_Code                 Item_Description Country_of_Origin  \\\n",
       "0  23/04/2021  27101931           Mineral fuels and oils      Saudi Arabia   \n",
       "1  03/11/2021  30049099  Generic pharmaceutical products             China   \n",
       "2  13/11/2022  30049099  Generic pharmaceutical products             China   \n",
       "3  13/03/2022  15079090          Vegetable fats and oils           Germany   \n",
       "4  04/06/2020  12010090                         Soybeans             China   \n",
       "\n",
       "  Port_of_Shipment  Quantity Quantity_Unit  Net_Mass_kg  Gross_Mass_kg  \\\n",
       "0            Busia     23.58         units       114.15         123.56   \n",
       "1        Port Bell    482.42            kg      2253.97        2439.86   \n",
       "2  Entebbe Airport    131.97        liters       348.67         377.42   \n",
       "3  Entebbe Airport    113.44         pairs       449.93         487.04   \n",
       "4        Port Bell     44.42         units       210.32         227.66   \n",
       "\n",
       "   FOB_Value_USD  Freight_USD  Insurance_USD  CIF_Value_USD  CIF_Value_UGX  \\\n",
       "0        9044.66      1050.60         143.72       10238.98    37439216.34   \n",
       "1        2352.84       220.04          47.01        2619.89     9671924.57   \n",
       "2        2084.10       169.47          17.04        2270.61     8412978.38   \n",
       "3        2759.84       151.30          53.46        2964.60    10672562.76   \n",
       "4        9861.95      1345.54          62.96       11270.45    41822493.34   \n",
       "\n",
       "   Unit_Price_UGX  Tax_Rate Currency_Code Mode_of_Transport  \n",
       "0      1587753.03      0.05           USD              Land  \n",
       "1        20048.76      0.18           USD             Water  \n",
       "2        63749.17      0.18           USD               Air  \n",
       "3        94081.12      0.15           USD               Air  \n",
       "4       941523.94      0.05           USD             Water  "
      ]
     },
     "execution_count": 25,
     "metadata": {},
     "output_type": "execute_result"
    }
   ],
   "source": [
    "data.head(5)"
   ]
  },
  {
   "cell_type": "code",
   "execution_count": 26,
   "id": "6dbb3e6f",
   "metadata": {},
   "outputs": [
    {
     "name": "stdout",
     "output_type": "stream",
     "text": [
      "<class 'pandas.core.frame.DataFrame'>\n",
      "RangeIndex: 80000 entries, 0 to 79999\n",
      "Data columns (total 18 columns):\n",
      " #   Column             Non-Null Count  Dtype  \n",
      "---  ------             --------------  -----  \n",
      " 0   Date               80000 non-null  object \n",
      " 1   HS_Code            80000 non-null  int64  \n",
      " 2   Item_Description   80000 non-null  object \n",
      " 3   Country_of_Origin  80000 non-null  object \n",
      " 4   Port_of_Shipment   80000 non-null  object \n",
      " 5   Quantity           80000 non-null  float64\n",
      " 6   Quantity_Unit      80000 non-null  object \n",
      " 7   Net_Mass_kg        80000 non-null  float64\n",
      " 8   Gross_Mass_kg      80000 non-null  float64\n",
      " 9   FOB_Value_USD      80000 non-null  float64\n",
      " 10  Freight_USD        80000 non-null  float64\n",
      " 11  Insurance_USD      80000 non-null  float64\n",
      " 12  CIF_Value_USD      80000 non-null  float64\n",
      " 13  CIF_Value_UGX      80000 non-null  float64\n",
      " 14  Unit_Price_UGX     80000 non-null  float64\n",
      " 15  Tax_Rate           80000 non-null  float64\n",
      " 16  Currency_Code      80000 non-null  object \n",
      " 17  Mode_of_Transport  80000 non-null  object \n",
      "dtypes: float64(10), int64(1), object(7)\n",
      "memory usage: 11.0+ MB\n"
     ]
    }
   ],
   "source": [
    "#checking the data types of the columns in the dataset\n",
    "data.info()"
   ]
  },
  {
   "cell_type": "code",
   "execution_count": 27,
   "id": "2cd9f8e7",
   "metadata": {},
   "outputs": [
    {
     "data": {
      "text/plain": [
       "(80000, 18)"
      ]
     },
     "execution_count": 27,
     "metadata": {},
     "output_type": "execute_result"
    }
   ],
   "source": [
    "# checking for shape of the dataset\n",
    "data.shape"
   ]
  },
  {
   "cell_type": "code",
   "execution_count": 28,
   "id": "871e69b3",
   "metadata": {},
   "outputs": [
    {
     "data": {
      "text/plain": [
       "Date                  object\n",
       "HS_Code                int64\n",
       "Item_Description      object\n",
       "Country_of_Origin     object\n",
       "Port_of_Shipment      object\n",
       "Quantity             float64\n",
       "Quantity_Unit         object\n",
       "Net_Mass_kg          float64\n",
       "Gross_Mass_kg        float64\n",
       "FOB_Value_USD        float64\n",
       "Freight_USD          float64\n",
       "Insurance_USD        float64\n",
       "CIF_Value_USD        float64\n",
       "CIF_Value_UGX        float64\n",
       "Unit_Price_UGX       float64\n",
       "Tax_Rate             float64\n",
       "Currency_Code         object\n",
       "Mode_of_Transport     object\n",
       "dtype: object"
      ]
     },
     "execution_count": 28,
     "metadata": {},
     "output_type": "execute_result"
    }
   ],
   "source": [
    "#checking the data types of the columns\n",
    "data.dtypes"
   ]
  }
 ],
 "metadata": {
  "kernelspec": {
   "display_name": "Python 3",
   "language": "python",
   "name": "python3"
  },
  "language_info": {
   "codemirror_mode": {
    "name": "ipython",
    "version": 3
   },
   "file_extension": ".py",
   "mimetype": "text/x-python",
   "name": "python",
   "nbconvert_exporter": "python",
   "pygments_lexer": "ipython3",
   "version": "3.11.9"
  }
 },
 "nbformat": 4,
 "nbformat_minor": 5
}
